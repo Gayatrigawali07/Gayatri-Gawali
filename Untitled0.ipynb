{
  "nbformat": 4,
  "nbformat_minor": 0,
  "metadata": {
    "colab": {
      "provenance": [],
      "authorship_tag": "ABX9TyNyfI70NGt9z3Rm3D30OYSR",
      "include_colab_link": true
    },
    "kernelspec": {
      "name": "python3",
      "display_name": "Python 3"
    },
    "language_info": {
      "name": "python"
    }
  },
  "cells": [
    {
      "cell_type": "markdown",
      "metadata": {
        "id": "view-in-github",
        "colab_type": "text"
      },
      "source": [
        "<a href=\"https://colab.research.google.com/github/Gayatrigawali07/Gayatri-Gawali/blob/main/Untitled0.ipynb\" target=\"_parent\"><img src=\"https://colab.research.google.com/assets/colab-badge.svg\" alt=\"Open In Colab\"/></a>"
      ]
    },
    {
      "cell_type": "code",
      "execution_count": null,
      "metadata": {
        "colab": {
          "base_uri": "https://localhost:8080/"
        },
        "id": "82eaCPREJ1yk",
        "outputId": "04bd5f75-023e-49d8-e10e-d64b358042f8"
      },
      "outputs": [
        {
          "output_type": "stream",
          "name": "stdout",
          "text": [
            "Welcome to the ATM Machine!\n",
            "\n",
            "Please choose an option:\n",
            "1. Check Balance\n",
            "2. Deposit Money\n",
            "3. Withdraw Money\n",
            "4. Exit\n"
          ]
        }
      ],
      "source": [
        "class ATMMachine:\n",
        "    def __init__(self):\n",
        "        self.balance = 0\n",
        "\n",
        "    def check_balance(self):\n",
        "        print(f\"Your current balance is: ${self.balance}\")\n",
        "\n",
        "    def deposit(self, amount):\n",
        "        if amount > 0:\n",
        "            self.balance += amount\n",
        "            print(f\"Successfully deposited ${amount}.\")\n",
        "            self.check_balance()\n",
        "        else:\n",
        "            print(\"Invalid deposit amount.\")\n",
        "\n",
        "    def withdraw(self, amount):\n",
        "        if 0 < amount <= self.balance:\n",
        "            self.balance -= amount\n",
        "            print(f\"Successfully withdrew ${amount}.\")\n",
        "            self.check_balance()\n",
        "        else:\n",
        "            print(\"Insufficient balance or invalid amount.\")\n",
        "\n",
        "    def run(self):\n",
        "        print(\"Welcome to the ATM Machine!\")\n",
        "        while True:\n",
        "            print(\"\\nPlease choose an option:\")\n",
        "            print(\"1. Check Balance\")\n",
        "            print(\"2. Deposit Money\")\n",
        "            print(\"3. Withdraw Money\")\n",
        "            print(\"4. Exit\")\n",
        "            choice = input(\"Enter your choice (1/2/3/4): \")\n",
        "\n",
        "            if choice == '1':\n",
        "                self.check_balance()\n",
        "            elif choice == '2':\n",
        "                amount = float(input(\"Enter the amount to deposit: $\"))\n",
        "                self.deposit(amount)\n",
        "            elif choice == '3':\n",
        "                amount = float(input(\"Enter the amount to withdraw: $\"))\n",
        "                self.withdraw(amount)\n",
        "            elif choice == '4':\n",
        "                print(\"Thank you for using the ATM Machine. Goodbye!\")\n",
        "                break\n",
        "            else:\n",
        "                print(\"Invalid choice. Please try again.\")\n",
        "\n",
        "if __name__ == \"__main__\":\n",
        "    atm = ATMMachine()\n",
        "    atm.run()"
      ]
    }
  ]
}